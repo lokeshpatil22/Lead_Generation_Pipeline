{
 "cells": [
  {
   "cell_type": "code",
   "execution_count": 9,
   "id": "fe869d0b",
   "metadata": {},
   "outputs": [
    {
     "name": "stdout",
     "output_type": "stream",
     "text": [
      "Requirement already satisfied: google-api-python-client in c:\\users\\lokes\\anaconda3\\lib\\site-packages (2.135.0)\n",
      "Requirement already satisfied: httplib2<1.dev0,>=0.19.0 in c:\\users\\lokes\\anaconda3\\lib\\site-packages (from google-api-python-client) (0.22.0)\n",
      "Requirement already satisfied: google-auth!=2.24.0,!=2.25.0,<3.0.0.dev0,>=1.32.0 in c:\\users\\lokes\\anaconda3\\lib\\site-packages (from google-api-python-client) (2.31.0)\n",
      "Requirement already satisfied: google-auth-httplib2<1.0.0,>=0.2.0 in c:\\users\\lokes\\anaconda3\\lib\\site-packages (from google-api-python-client) (0.2.0)\n",
      "Requirement already satisfied: google-api-core!=2.0.*,!=2.1.*,!=2.2.*,!=2.3.0,<3.0.0.dev0,>=1.31.5 in c:\\users\\lokes\\anaconda3\\lib\\site-packages (from google-api-python-client) (1.34.1)\n",
      "Requirement already satisfied: uritemplate<5,>=3.0.1 in c:\\users\\lokes\\anaconda3\\lib\\site-packages (from google-api-python-client) (3.0.1)\n",
      "Requirement already satisfied: googleapis-common-protos<2.0dev,>=1.56.2 in c:\\users\\lokes\\anaconda3\\lib\\site-packages (from google-api-core!=2.0.*,!=2.1.*,!=2.2.*,!=2.3.0,<3.0.0.dev0,>=1.31.5->google-api-python-client) (1.63.0)\n",
      "Requirement already satisfied: protobuf!=3.20.0,!=3.20.1,!=4.21.0,!=4.21.1,!=4.21.2,!=4.21.3,!=4.21.4,!=4.21.5,<4.0.0dev,>=3.19.5 in c:\\users\\lokes\\anaconda3\\lib\\site-packages (from google-api-core!=2.0.*,!=2.1.*,!=2.2.*,!=2.3.0,<3.0.0.dev0,>=1.31.5->google-api-python-client) (3.20.3)\n",
      "Requirement already satisfied: requests<3.0.0dev,>=2.18.0 in c:\\users\\lokes\\anaconda3\\lib\\site-packages (from google-api-core!=2.0.*,!=2.1.*,!=2.2.*,!=2.3.0,<3.0.0.dev0,>=1.31.5->google-api-python-client) (2.27.1)\n",
      "Requirement already satisfied: cachetools<6.0,>=2.0.0 in c:\\users\\lokes\\anaconda3\\lib\\site-packages (from google-auth!=2.24.0,!=2.25.0,<3.0.0.dev0,>=1.32.0->google-api-python-client) (4.2.2)\n",
      "Requirement already satisfied: pyasn1-modules>=0.2.1 in c:\\users\\lokes\\anaconda3\\lib\\site-packages (from google-auth!=2.24.0,!=2.25.0,<3.0.0.dev0,>=1.32.0->google-api-python-client) (0.2.8)\n",
      "Requirement already satisfied: rsa<5,>=3.1.4 in c:\\users\\lokes\\anaconda3\\lib\\site-packages (from google-auth!=2.24.0,!=2.25.0,<3.0.0.dev0,>=1.32.0->google-api-python-client) (4.7.2)\n",
      "Requirement already satisfied: pyparsing!=3.0.0,!=3.0.1,!=3.0.2,!=3.0.3,<4,>=2.4.2 in c:\\users\\lokes\\anaconda3\\lib\\site-packages (from httplib2<1.dev0,>=0.19.0->google-api-python-client) (3.0.4)\n",
      "Requirement already satisfied: pyasn1<0.5.0,>=0.4.6 in c:\\users\\lokes\\anaconda3\\lib\\site-packages (from pyasn1-modules>=0.2.1->google-auth!=2.24.0,!=2.25.0,<3.0.0.dev0,>=1.32.0->google-api-python-client) (0.4.8)\n",
      "Requirement already satisfied: urllib3<1.27,>=1.21.1 in c:\\users\\lokes\\anaconda3\\lib\\site-packages (from requests<3.0.0dev,>=2.18.0->google-api-core!=2.0.*,!=2.1.*,!=2.2.*,!=2.3.0,<3.0.0.dev0,>=1.31.5->google-api-python-client) (1.26.9)\n",
      "Requirement already satisfied: certifi>=2017.4.17 in c:\\users\\lokes\\anaconda3\\lib\\site-packages (from requests<3.0.0dev,>=2.18.0->google-api-core!=2.0.*,!=2.1.*,!=2.2.*,!=2.3.0,<3.0.0.dev0,>=1.31.5->google-api-python-client) (2021.10.8)\n",
      "Requirement already satisfied: charset-normalizer~=2.0.0 in c:\\users\\lokes\\anaconda3\\lib\\site-packages (from requests<3.0.0dev,>=2.18.0->google-api-core!=2.0.*,!=2.1.*,!=2.2.*,!=2.3.0,<3.0.0.dev0,>=1.31.5->google-api-python-client) (2.0.4)\n",
      "Requirement already satisfied: idna<4,>=2.5 in c:\\users\\lokes\\anaconda3\\lib\\site-packages (from requests<3.0.0dev,>=2.18.0->google-api-core!=2.0.*,!=2.1.*,!=2.2.*,!=2.3.0,<3.0.0.dev0,>=1.31.5->google-api-python-client) (3.3)\n",
      "Note: you may need to restart the kernel to use updated packages.\n"
     ]
    }
   ],
   "source": [
    "pip install google-api-python-client"
   ]
  },
  {
   "cell_type": "code",
   "execution_count": 10,
   "id": "91c60124",
   "metadata": {},
   "outputs": [
    {
     "name": "stdout",
     "output_type": "stream",
     "text": [
      "Note: you may need to restart the kernel to use updated packages.\n"
     ]
    },
    {
     "name": "stderr",
     "output_type": "stream",
     "text": [
      "ERROR: Could not find a version that satisfies the requirement OpenSSL (from versions: none)\n",
      "ERROR: No matching distribution found for OpenSSL\n"
     ]
    }
   ],
   "source": [
    "pip install OpenSSL"
   ]
  },
  {
   "cell_type": "code",
   "execution_count": 11,
   "id": "7bedd0b5",
   "metadata": {},
   "outputs": [
    {
     "name": "stdout",
     "output_type": "stream",
     "text": [
      "Requirement already satisfied: oauth2client in c:\\users\\lokes\\anaconda3\\lib\\site-packages (4.1.3)\n",
      "Requirement already satisfied: httplib2>=0.9.1 in c:\\users\\lokes\\anaconda3\\lib\\site-packages (from oauth2client) (0.22.0)\n",
      "Requirement already satisfied: pyasn1>=0.1.7 in c:\\users\\lokes\\anaconda3\\lib\\site-packages (from oauth2client) (0.4.8)\n",
      "Requirement already satisfied: pyasn1-modules>=0.0.5 in c:\\users\\lokes\\anaconda3\\lib\\site-packages (from oauth2client) (0.2.8)\n",
      "Requirement already satisfied: rsa>=3.1.4 in c:\\users\\lokes\\anaconda3\\lib\\site-packages (from oauth2client) (4.7.2)\n",
      "Requirement already satisfied: six>=1.6.1 in c:\\users\\lokes\\anaconda3\\lib\\site-packages (from oauth2client) (1.16.0)\n",
      "Requirement already satisfied: pyparsing!=3.0.0,!=3.0.1,!=3.0.2,!=3.0.3,<4,>=2.4.2 in c:\\users\\lokes\\anaconda3\\lib\\site-packages (from httplib2>=0.9.1->oauth2client) (3.0.4)\n",
      "Note: you may need to restart the kernel to use updated packages.\n"
     ]
    }
   ],
   "source": [
    "pip install oauth2client"
   ]
  },
  {
   "cell_type": "code",
   "execution_count": 12,
   "id": "e6834e69",
   "metadata": {},
   "outputs": [
    {
     "name": "stdout",
     "output_type": "stream",
     "text": [
      "Requirement already satisfied: pyOpenSSL in c:\\users\\lokes\\anaconda3\\lib\\site-packages (20.0.0)\n",
      "Collecting pyOpenSSL\n",
      "  Using cached pyOpenSSL-24.1.0-py3-none-any.whl.metadata (12 kB)\n",
      "Collecting cryptography<43,>=41.0.5 (from pyOpenSSL)\n",
      "  Using cached cryptography-42.0.8-cp39-abi3-win_amd64.whl.metadata (5.4 kB)\n",
      "Requirement already satisfied: cffi>=1.12 in c:\\users\\lokes\\anaconda3\\lib\\site-packages (from cryptography<43,>=41.0.5->pyOpenSSL) (1.15.0)\n",
      "Requirement already satisfied: pycparser in c:\\users\\lokes\\anaconda3\\lib\\site-packages (from cffi>=1.12->cryptography<43,>=41.0.5->pyOpenSSL) (2.21)\n",
      "Using cached pyOpenSSL-24.1.0-py3-none-any.whl (56 kB)\n",
      "Using cached cryptography-42.0.8-cp39-abi3-win_amd64.whl (2.9 MB)\n",
      "Installing collected packages: cryptography, pyOpenSSL\n",
      "  Attempting uninstall: cryptography\n",
      "    Found existing installation: cryptography 3.4.7\n",
      "    Uninstalling cryptography-3.4.7:\n",
      "      Successfully uninstalled cryptography-3.4.7\n",
      "  Attempting uninstall: pyOpenSSL\n",
      "    Found existing installation: pyOpenSSL 20.0.0\n",
      "    Uninstalling pyOpenSSL-20.0.0:\n",
      "      Successfully uninstalled pyOpenSSL-20.0.0\n",
      "Successfully installed cryptography-42.0.8 pyOpenSSL-24.1.0\n",
      "Note: you may need to restart the kernel to use updated packages.\n"
     ]
    },
    {
     "name": "stderr",
     "output_type": "stream",
     "text": [
      "  WARNING: Failed to remove contents in a temporary directory 'C:\\Users\\lokes\\anaconda3\\Lib\\site-packages\\~.yptography'.\n",
      "  You can safely remove it manually.\n",
      "ERROR: pip's dependency resolver does not currently take into account all the packages that are installed. This behaviour is the source of the following dependency conflicts.\n",
      "spyder 5.1.5 requires pyqt5<5.13, which is not installed.\n",
      "spyder 5.1.5 requires pyqtwebengine<5.13, which is not installed.\n"
     ]
    }
   ],
   "source": [
    "pip install --upgrade pyOpenSSL"
   ]
  },
  {
   "cell_type": "code",
   "execution_count": 13,
   "id": "ec7d1431",
   "metadata": {},
   "outputs": [
    {
     "name": "stdout",
     "output_type": "stream",
     "text": [
      "Collecting cryptography==3.4.7\n",
      "  Using cached cryptography-3.4.7-cp36-abi3-win_amd64.whl.metadata (5.1 kB)\n",
      "Requirement already satisfied: cffi>=1.12 in c:\\users\\lokes\\anaconda3\\lib\\site-packages (from cryptography==3.4.7) (1.15.0)\n",
      "Requirement already satisfied: pycparser in c:\\users\\lokes\\anaconda3\\lib\\site-packages (from cffi>=1.12->cryptography==3.4.7) (2.21)\n",
      "Using cached cryptography-3.4.7-cp36-abi3-win_amd64.whl (1.6 MB)\n",
      "Installing collected packages: cryptography\n",
      "Note: you may need to restart the kernel to use updated packages.  Attempting uninstall: cryptography\n",
      "    Found existing installation: cryptography 42.0.8\n",
      "    Uninstalling cryptography-42.0.8:\n",
      "      Successfully uninstalled cryptography-42.0.8\n",
      "Successfully installed cryptography-3.4.7\n",
      "\n"
     ]
    },
    {
     "name": "stderr",
     "output_type": "stream",
     "text": [
      "ERROR: pip's dependency resolver does not currently take into account all the packages that are installed. This behaviour is the source of the following dependency conflicts.\n",
      "spyder 5.1.5 requires pyqt5<5.13, which is not installed.\n",
      "spyder 5.1.5 requires pyqtwebengine<5.13, which is not installed.\n",
      "apache-airflow 2.9.1 requires cryptography>=39.0.0, but you have cryptography 3.4.7 which is incompatible.\n",
      "pyopenssl 24.1.0 requires cryptography<43,>=41.0.5, but you have cryptography 3.4.7 which is incompatible.\n"
     ]
    }
   ],
   "source": [
    "pip install cryptography==3.4.7"
   ]
  },
  {
   "cell_type": "code",
   "execution_count": 14,
   "id": "eed11e3b",
   "metadata": {},
   "outputs": [
    {
     "name": "stdout",
     "output_type": "stream",
     "text": [
      "Collecting PyOpenSSL==20.0.0\n",
      "  Using cached pyOpenSSL-20.0.0-py2.py3-none-any.whl.metadata (6.5 kB)\n",
      "Requirement already satisfied: cryptography>=3.2 in c:\\users\\lokes\\anaconda3\\lib\\site-packages (from PyOpenSSL==20.0.0) (3.4.7)\n",
      "Requirement already satisfied: six>=1.5.2 in c:\\users\\lokes\\anaconda3\\lib\\site-packages (from PyOpenSSL==20.0.0) (1.16.0)\n",
      "Requirement already satisfied: cffi>=1.12 in c:\\users\\lokes\\anaconda3\\lib\\site-packages (from cryptography>=3.2->PyOpenSSL==20.0.0) (1.15.0)\n",
      "Requirement already satisfied: pycparser in c:\\users\\lokes\\anaconda3\\lib\\site-packages (from cffi>=1.12->cryptography>=3.2->PyOpenSSL==20.0.0) (2.21)\n",
      "Using cached pyOpenSSL-20.0.0-py2.py3-none-any.whl (54 kB)\n",
      "Installing collected packages: PyOpenSSL\n",
      "  Attempting uninstall: PyOpenSSL\n",
      "    Found existing installation: pyOpenSSL 24.1.0\n",
      "    Uninstalling pyOpenSSL-24.1.0:\n",
      "      Successfully uninstalled pyOpenSSL-24.1.0\n",
      "Successfully installed PyOpenSSL-20.0.0\n",
      "Note: you may need to restart the kernel to use updated packages.\n"
     ]
    }
   ],
   "source": [
    "pip install PyOpenSSL==20.0.0"
   ]
  },
  {
   "cell_type": "code",
   "execution_count": 2,
   "id": "59654d7a",
   "metadata": {},
   "outputs": [
    {
     "name": "stdout",
     "output_type": "stream",
     "text": [
      "Downloading Excel file: Lead-5th July -career growth workshop (1).xlsx\n",
      "Downloading Excel file: Leads ads 6_29_2024_Leads_2024-06-30_2024-07-02 (1).xlsx\n",
      "Downloading Excel file: Leads_2024-06-29_2024-07-02.xlsx\n",
      "Downloading Excel file: Lead-5th July -career growth workshop.xlsx\n",
      "Downloading Excel file: Excel FFF.xlsx\n",
      "Downloading Excel file: Leads ads 6_29_2024_Leads_2024-06-30_2024-07-01- - Copy.xlsx\n",
      "Downloading Excel file: Leads ads 6_29_2024_Leads_2024-06-30_2024-06-30-.xlsx\n",
      "Updated contactList.xlsx with ID: 1a2rbictj-D0bkBxBqEbzM2vZ6tdU8Q6P\n",
      "Updated LeadStatus.xlsx with ID: 1tBJNnTmF83qqzieKy6iQexOkzKhK9ba9\n",
      "Pipeline completed successfully!\n"
     ]
    }
   ],
   "source": [
    "import os\n",
    "import pandas as pd\n",
    "from google.oauth2 import service_account\n",
    "from googleapiclient.discovery import build\n",
    "from googleapiclient.http import MediaIoBaseUpload\n",
    "from io import BytesIO\n",
    "\n",
    "# Replace with your actual credentials (refer to Google Drive API documentation)\n",
    "SCOPES = ['https://www.googleapis.com/auth/drive']\n",
    "SERVICE_ACCOUNT_FILE = r\"C:\\Users\\lokes\\Downloads\\dataventurex-project-63975-fbdce5cb55d3.json\"  # Your service account key file\n",
    "APPLICATION_NAME = 'Lead Processing Pipeline'\n",
    "\n",
    "def get_authenticated_service():\n",
    "    \"\"\"Authenticates with Google Drive API using a service account and returns the Drive service object.\"\"\"\n",
    "    credentials = service_account.Credentials.from_service_account_file(\n",
    "        SERVICE_ACCOUNT_FILE, scopes=SCOPES)\n",
    "    return build('drive', 'v3', credentials=credentials)\n",
    "\n",
    "def download_all_leads(service, folder_id):\n",
    "    \"\"\"Downloads all Excel files from the specified folder.\"\"\"\n",
    "    results = service.files().list(\n",
    "        pageSize=1000,\n",
    "        fields=\"files(id, name)\",\n",
    "        q=f\"'{folder_id}' in parents and mimeType='application/vnd.openxmlformats-officedocument.spreadsheetml.sheet'\"\n",
    "    ).execute()\n",
    "    items = results.get('files', [])\n",
    "    if not items:\n",
    "        print('No Excel files found in the folder.')\n",
    "        return []\n",
    "    \n",
    "    downloaded_files = []\n",
    "    for item in items:\n",
    "        file_id = item['id']\n",
    "        file_name = item['name']\n",
    "        print(f\"Downloading Excel file: {file_name}\")\n",
    "        \n",
    "        request = service.files().get_media(fileId=file_id)\n",
    "        file_content = request.execute()\n",
    "        \n",
    "        with open(file_name, 'wb') as f:\n",
    "            f.write(file_content)\n",
    "        downloaded_files.append(file_name)\n",
    "    \n",
    "    return downloaded_files\n",
    "\n",
    "def process_excel_file(file_name):\n",
    "    \"\"\"Reads the Excel file, extracts relevant columns, and removes any empty rows.\"\"\"\n",
    "    df = pd.read_excel(file_name)\n",
    "    df = df[['created_time', 'email', 'full_name', 'phone_number']]\n",
    "    df['Message Status'] = 'No'\n",
    "    df = df.dropna(how='all').reset_index(drop=True)\n",
    "    return df\n",
    "\n",
    "def consolidate_leads(lead_dfs):\n",
    "    \"\"\"Combines lead DataFrames from multiple files and keeps only unique records.\"\"\"\n",
    "    consolidated_df = pd.concat(lead_dfs, ignore_index=True)\n",
    "    consolidated_df = consolidated_df.dropna(how='all').reset_index(drop=True)\n",
    "    consolidated_df['unique_id'] = consolidated_df['full_name'].astype(str) + '_' + consolidated_df['phone_number'].astype(str) + '_' + consolidated_df['email'].astype(str)\n",
    "    consolidated_df = consolidated_df.drop_duplicates(subset='unique_id', keep='first')\n",
    "    consolidated_df = consolidated_df.drop(columns=['unique_id'])\n",
    "    return consolidated_df\n",
    "\n",
    "def create_output_files(service, consolidated_df, folder_id):\n",
    "    \"\"\"Updates existing contactList.xlsx and LeadStatus.xlsx files in Google Drive by appending new unique records and updating message status.\"\"\"\n",
    "    \n",
    "    existing_files = service.files().list(\n",
    "        q=f\"'{folder_id}' in parents and (name='contactList.xlsx' or name='LeadStatus.xlsx')\",\n",
    "        fields=\"files(id, name)\"\n",
    "    ).execute().get('files', [])\n",
    "\n",
    "    existing_files_dict = {file['name']: file['id'] for file in existing_files}\n",
    "\n",
    "    def update_file(file_name, new_data_df):\n",
    "        new_data_df = new_data_df.dropna()\n",
    "        \n",
    "        if file_name in existing_files_dict:\n",
    "            request = service.files().get_media(fileId=existing_files_dict[file_name])\n",
    "            file_content = request.execute()\n",
    "            \n",
    "            existing_data = pd.read_excel(BytesIO(file_content))\n",
    "            existing_data = existing_data.drop(columns=['unique_id'], errors='ignore')\n",
    "            existing_data = existing_data.dropna()\n",
    "            \n",
    "            if file_name == 'contactList.xlsx':\n",
    "                existing_key = existing_data['full_name'].astype(str) + '_' + existing_data['phone_number'].astype(str)\n",
    "                new_key = new_data_df['full_name'].astype(str) + '_' + new_data_df['phone_number'].astype(str)\n",
    "            else:  # LeadStatus.xlsx\n",
    "                existing_key = existing_data['created_time'].astype(str) + '_' + existing_data['email'].astype(str) + '_' + existing_data['full_name'].astype(str) + '_' + existing_data['phone_number'].astype(str)\n",
    "                new_key = new_data_df['created_time'].astype(str) + '_' + new_data_df['email'].astype(str) + '_' + new_data_df['full_name'].astype(str) + '_' + new_data_df['phone_number'].astype(str)\n",
    "            \n",
    "            new_records = new_data_df[~new_key.isin(existing_key)]\n",
    "            \n",
    "            if file_name == 'LeadStatus.xlsx':\n",
    "                # Update Message Status to 'Yes' for existing records\n",
    "                existing_data.loc[:, 'Message Status'] = 'Yes'\n",
    "            \n",
    "            updated_data = pd.concat([existing_data, new_records], ignore_index=True)\n",
    "        else:\n",
    "            updated_data = new_data_df\n",
    "        \n",
    "        if file_name == 'contactList.xlsx':\n",
    "            updated_data = updated_data[['full_name', 'phone_number']]\n",
    "        else:  # LeadStatus.xlsx\n",
    "            updated_data = updated_data[['created_time', 'email', 'full_name', 'phone_number', 'Message Status']]\n",
    "        \n",
    "        file_buffer = BytesIO()\n",
    "        with pd.ExcelWriter(file_buffer, engine='openpyxl') as writer:\n",
    "            updated_data.to_excel(writer, index=False)\n",
    "        file_buffer.seek(0)\n",
    "\n",
    "        media = MediaIoBaseUpload(file_buffer, mimetype='application/vnd.openxmlformats-officedocument.spreadsheetml.sheet', resumable=True)\n",
    "\n",
    "        if file_name in existing_files_dict:\n",
    "            file = service.files().update(\n",
    "                fileId=existing_files_dict[file_name],\n",
    "                media_body=media\n",
    "            ).execute()\n",
    "            print(f\"Updated {file_name} with ID: {file.get('id')}\")\n",
    "        else:\n",
    "            file_metadata = {\n",
    "                'name': file_name,\n",
    "                'parents': [folder_id],\n",
    "                'mimeType': 'application/vnd.openxmlformats-officedocument.spreadsheetml.sheet'\n",
    "            }\n",
    "            file = service.files().create(\n",
    "                body=file_metadata,\n",
    "                media_body=media,\n",
    "                fields='id'\n",
    "            ).execute()\n",
    "            print(f\"Created new {file_name} with ID: {file.get('id')}\")\n",
    "\n",
    "    # Update contactList.xlsx\n",
    "    contact_list_df = consolidated_df[['full_name', 'phone_number']].drop_duplicates()\n",
    "    update_file('contactList.xlsx', contact_list_df)\n",
    "\n",
    "    # Update LeadStatus.xlsx\n",
    "    lead_status_df = consolidated_df[['created_time', 'email', 'full_name', 'phone_number', 'Message Status']]\n",
    "    update_file('LeadStatus.xlsx', lead_status_df)\n",
    "\n",
    "def main():\n",
    "    \"\"\"Main function to execute the pipeline.\"\"\"\n",
    "    service = get_authenticated_service()\n",
    "    # Replace with your actual input folder ID\n",
    "    input_folder_id = '1jIIRsdyob6MiRA5BXhVepn7auZDPrEgO'\n",
    "    # Replace with your actual output folder ID\n",
    "    output_folder_id = '1xbzWWNa9oWkHLiILAC0PvGiXozBg7NXV'\n",
    "    downloaded_files = download_all_leads(service, input_folder_id)\n",
    "    if downloaded_files:\n",
    "        lead_dfs = []\n",
    "        for file in downloaded_files:\n",
    "            lead_dfs.append(process_excel_file(file))\n",
    "        consolidated_df = consolidate_leads(lead_dfs)\n",
    "        create_output_files(service, consolidated_df, output_folder_id)\n",
    "        print('Pipeline completed successfully!')\n",
    "    else:\n",
    "        print('No files were downloaded. Pipeline could not be completed.')\n",
    "\n",
    "if __name__ == '__main__':\n",
    "    main()"
   ]
  },
  {
   "cell_type": "code",
   "execution_count": null,
   "id": "2c718f8d",
   "metadata": {},
   "outputs": [],
   "source": []
  }
 ],
 "metadata": {
  "kernelspec": {
   "display_name": "Python 3 (ipykernel)",
   "language": "python",
   "name": "python3"
  },
  "language_info": {
   "codemirror_mode": {
    "name": "ipython",
    "version": 3
   },
   "file_extension": ".py",
   "mimetype": "text/x-python",
   "name": "python",
   "nbconvert_exporter": "python",
   "pygments_lexer": "ipython3",
   "version": "3.9.12"
  }
 },
 "nbformat": 4,
 "nbformat_minor": 5
}
